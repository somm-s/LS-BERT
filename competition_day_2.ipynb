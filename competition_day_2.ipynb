{
 "cells": [
  {
   "cell_type": "code",
   "execution_count": 5,
   "metadata": {},
   "outputs": [],
   "source": [
    "dataset = \"ls24_live_dataset/day_2\"\n",
    "output = \"datasets/yr-2024_fi-100_ft-15000000_nb-30_ht-100000_di-uni_mx-1500_lg-no\"\n",
    "\n",
    "# list files in dataset folder\n",
    "import os\n",
    "files = os.listdir(dataset)\n",
    "\n",
    "\n",
    "for file in files:\n",
    "    with open(dataset + \"/\" + file) as f:\n",
    "        file_name = file.split(\".txt\")[0]\n",
    "        with open(output + \"/\" + file_name + \".csv\", \"a\") as f_out:\n",
    "            lines = f.readlines()\n",
    "            for line in lines:\n",
    "                ip, sentence = line.split(\",\")[0], line.split(\",\")[3]\n",
    "                f_out.write(ip + \",\" + sentence)\n"
   ]
  },
  {
   "cell_type": "code",
   "execution_count": null,
   "metadata": {},
   "outputs": [],
   "source": []
  }
 ],
 "metadata": {
  "kernelspec": {
   "display_name": "Python 3 (ipykernel)",
   "language": "python",
   "name": "python3"
  },
  "language_info": {
   "codemirror_mode": {
    "name": "ipython",
    "version": 3
   },
   "file_extension": ".py",
   "mimetype": "text/x-python",
   "name": "python",
   "nbconvert_exporter": "python",
   "pygments_lexer": "ipython3",
   "version": "3.10.12"
  }
 },
 "nbformat": 4,
 "nbformat_minor": 2
}
