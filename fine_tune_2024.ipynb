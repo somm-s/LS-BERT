{
 "cells": [
  {
   "cell_type": "code",
   "execution_count": 62,
   "metadata": {},
   "outputs": [],
   "source": [
    "configuration = \"fi-100_ft-15000000_nb-30_ht-100000_di-uni_mx-1500_lg-no\"\n",
    "dataset_path = \"datasets\"\n",
    "train_year = 2024\n",
    "output_dir = \"trained_models\"\n",
    "fine_tune_run_name = \"fine_tune_2024_full_\" + configuration\n",
    "num_fine_tune_epochs = 1\n",
    "fine_tune_per_device_batch_size = 128\n",
    "fine_tune_per_device_eval_batch_size = 256"
   ]
  },
  {
   "cell_type": "code",
   "execution_count": 63,
   "metadata": {},
   "outputs": [
    {
     "name": "stdout",
     "output_type": "stream",
     "text": [
      "Loading data from datasets/yr-2024_fi-100_ft-15000000_nb-30_ht-100000_di-uni_mx-1500_lg-no.zip\n"
     ]
    },
    {
     "name": "stderr",
     "output_type": "stream",
     "text": [
      "  0%|          | 0/8859 [00:00<?, ?it/s]"
     ]
    },
    {
     "name": "stderr",
     "output_type": "stream",
     "text": [
      "100%|██████████| 8859/8859 [00:04<00:00, 2032.86it/s]\n"
     ]
    }
   ],
   "source": [
    "from data_loader import *\n",
    "train_benign_corpus, train_rt_corpus = load_train_data_2024(train_year, configuration, dataset_path)"
   ]
  },
  {
   "cell_type": "code",
   "execution_count": 64,
   "metadata": {},
   "outputs": [
    {
     "name": "stdout",
     "output_type": "stream",
     "text": [
      "Creating dataset for  fi-100_ft-15000000_nb-30_ht-100000_di-uni_mx-1500_lg-no\n",
      "Normalizing corpus 0\n",
      "Normalizing corpus 1\n",
      "Coalescing\n"
     ]
    },
    {
     "name": "stderr",
     "output_type": "stream",
     "text": [
      "100%|██████████| 119/119 [00:00<00:00, 179.74it/s]\n",
      "100%|██████████| 33370/33370 [00:50<00:00, 655.13it/s] \n"
     ]
    },
    {
     "name": "stdout",
     "output_type": "stream",
     "text": [
      "Creating sentence pairs\n"
     ]
    },
    {
     "name": "stderr",
     "output_type": "stream",
     "text": [
      "100%|██████████| 119/119 [00:00<00:00, 165.72it/s]\n",
      "100%|██████████| 33370/33370 [00:01<00:00, 17692.00it/s]\n"
     ]
    },
    {
     "name": "stdout",
     "output_type": "stream",
     "text": [
      "Training pairs 0: 6172\n",
      "Training pairs 1: 6741035\n",
      "Deduplicating\n",
      "Training pairs after deduplication (0): 2087\n",
      "Training pairs after deduplication (1): 1106090\n",
      "Extracting tokens\n"
     ]
    },
    {
     "name": "stderr",
     "output_type": "stream",
     "text": [
      "0it [00:00, ?it/s]\n",
      "100%|██████████| 2087/2087 [00:00<00:00, 78682.55it/s]\n",
      "100%|██████████| 1106090/1106090 [00:10<00:00, 104568.22it/s]\n"
     ]
    }
   ],
   "source": [
    "from bert_combined_dataset import *\n",
    "\n",
    "train_data = FlowPairDataset(configuration, train_rt_corpus, train_benign_corpus, seq_length=128, deduplicate=True, coalesce=True, shuffle=True, balanced=False)"
   ]
  },
  {
   "cell_type": "code",
   "execution_count": 65,
   "metadata": {},
   "outputs": [
    {
     "name": "stderr",
     "output_type": "stream",
     "text": [
      "Some weights of BertForSequenceClassification were not initialized from the model checkpoint at trained_models/pre_train_all_years_ded_coa_med_seq-128_old_fi-100_ft-15000000_nb-30_ht-100000_di-uni_mx-1500_lg-no/pretrained_model and are newly initialized: ['classifier.bias', 'classifier.weight']\n",
      "You should probably TRAIN this model on a down-stream task to be able to use it for predictions and inference.\n"
     ]
    },
    {
     "name": "stderr",
     "output_type": "stream",
     "text": [
      "\u001b[34m\u001b[1mwandb\u001b[0m: Currently logged in as: \u001b[33msomm-s\u001b[0m. Use \u001b[1m`wandb login --relogin`\u001b[0m to force relogin\n"
     ]
    },
    {
     "data": {
      "text/html": [
       "wandb version 0.16.6 is available!  To upgrade, please run:\n",
       " $ pip install wandb --upgrade"
      ],
      "text/plain": [
       "<IPython.core.display.HTML object>"
      ]
     },
     "metadata": {},
     "output_type": "display_data"
    },
    {
     "data": {
      "text/html": [
       "Tracking run with wandb version 0.16.3"
      ],
      "text/plain": [
       "<IPython.core.display.HTML object>"
      ]
     },
     "metadata": {},
     "output_type": "display_data"
    },
    {
     "data": {
      "text/html": [
       "Run data is saved locally in <code>/cluster/raid/home/sosi/repos/Bert/wandb/run-20240425_130849-3gpzmfnq</code>"
      ],
      "text/plain": [
       "<IPython.core.display.HTML object>"
      ]
     },
     "metadata": {},
     "output_type": "display_data"
    },
    {
     "data": {
      "text/html": [
       "Syncing run <strong><a href='https://wandb.ai/somm-s/huggingface/runs/3gpzmfnq' target=\"_blank\">fine_tune_2024_full_fi-100_ft-15000000_nb-30_ht-100000_di-uni_mx-1500_lg-no</a></strong> to <a href='https://wandb.ai/somm-s/huggingface' target=\"_blank\">Weights & Biases</a> (<a href='https://wandb.me/run' target=\"_blank\">docs</a>)<br/>"
      ],
      "text/plain": [
       "<IPython.core.display.HTML object>"
      ]
     },
     "metadata": {},
     "output_type": "display_data"
    },
    {
     "data": {
      "text/html": [
       " View project at <a href='https://wandb.ai/somm-s/huggingface' target=\"_blank\">https://wandb.ai/somm-s/huggingface</a>"
      ],
      "text/plain": [
       "<IPython.core.display.HTML object>"
      ]
     },
     "metadata": {},
     "output_type": "display_data"
    },
    {
     "data": {
      "text/html": [
       " View run at <a href='https://wandb.ai/somm-s/huggingface/runs/3gpzmfnq' target=\"_blank\">https://wandb.ai/somm-s/huggingface/runs/3gpzmfnq</a>"
      ],
      "text/plain": [
       "<IPython.core.display.HTML object>"
      ]
     },
     "metadata": {},
     "output_type": "display_data"
    },
    {
     "data": {
      "text/html": [
       "\n",
       "    <div>\n",
       "      \n",
       "      <progress value='20' max='20' style='width:300px; height:20px; vertical-align: middle;'></progress>\n",
       "      [20/20 02:07, Epoch 0/1]\n",
       "    </div>\n",
       "    <table border=\"1\" class=\"dataframe\">\n",
       "  <thead>\n",
       " <tr style=\"text-align: left;\">\n",
       "      <th>Step</th>\n",
       "      <th>Training Loss</th>\n",
       "    </tr>\n",
       "  </thead>\n",
       "  <tbody>\n",
       "    <tr>\n",
       "      <td>1</td>\n",
       "      <td>0.757100</td>\n",
       "    </tr>\n",
       "    <tr>\n",
       "      <td>2</td>\n",
       "      <td>0.423400</td>\n",
       "    </tr>\n",
       "    <tr>\n",
       "      <td>3</td>\n",
       "      <td>0.234600</td>\n",
       "    </tr>\n",
       "    <tr>\n",
       "      <td>4</td>\n",
       "      <td>0.133400</td>\n",
       "    </tr>\n",
       "    <tr>\n",
       "      <td>5</td>\n",
       "      <td>0.082200</td>\n",
       "    </tr>\n",
       "    <tr>\n",
       "      <td>6</td>\n",
       "      <td>0.052100</td>\n",
       "    </tr>\n",
       "    <tr>\n",
       "      <td>7</td>\n",
       "      <td>0.043100</td>\n",
       "    </tr>\n",
       "    <tr>\n",
       "      <td>8</td>\n",
       "      <td>0.027800</td>\n",
       "    </tr>\n",
       "    <tr>\n",
       "      <td>9</td>\n",
       "      <td>0.023800</td>\n",
       "    </tr>\n",
       "    <tr>\n",
       "      <td>10</td>\n",
       "      <td>0.021500</td>\n",
       "    </tr>\n",
       "    <tr>\n",
       "      <td>11</td>\n",
       "      <td>0.020600</td>\n",
       "    </tr>\n",
       "    <tr>\n",
       "      <td>12</td>\n",
       "      <td>0.017800</td>\n",
       "    </tr>\n",
       "    <tr>\n",
       "      <td>13</td>\n",
       "      <td>0.015100</td>\n",
       "    </tr>\n",
       "    <tr>\n",
       "      <td>14</td>\n",
       "      <td>0.015300</td>\n",
       "    </tr>\n",
       "    <tr>\n",
       "      <td>15</td>\n",
       "      <td>0.015100</td>\n",
       "    </tr>\n",
       "    <tr>\n",
       "      <td>16</td>\n",
       "      <td>0.010500</td>\n",
       "    </tr>\n",
       "    <tr>\n",
       "      <td>17</td>\n",
       "      <td>0.012800</td>\n",
       "    </tr>\n",
       "    <tr>\n",
       "      <td>18</td>\n",
       "      <td>0.020000</td>\n",
       "    </tr>\n",
       "    <tr>\n",
       "      <td>19</td>\n",
       "      <td>0.014800</td>\n",
       "    </tr>\n",
       "    <tr>\n",
       "      <td>20</td>\n",
       "      <td>0.013600</td>\n",
       "    </tr>\n",
       "  </tbody>\n",
       "</table><p>"
      ],
      "text/plain": [
       "<IPython.core.display.HTML object>"
      ]
     },
     "metadata": {},
     "output_type": "display_data"
    },
    {
     "data": {
      "text/plain": [
       "TrainOutput(global_step=20, training_loss=0.0977258310187608, metrics={'train_runtime': 137.9366, 'train_samples_per_second': 593.896, 'train_steps_per_second': 0.145, 'total_flos': 1603300680007680.0, 'train_loss': 0.0977258310187608, 'epoch': 0.07})"
      ]
     },
     "execution_count": 65,
     "metadata": {},
     "output_type": "execute_result"
    }
   ],
   "source": [
    "from fine_tune_bert import *\n",
    "\n",
    "pre_train_run_name = \"pre_train_all_years_ded_coa_med_seq-128_old_fi-100_ft-15000000_nb-30_ht-100000_di-uni_mx-1500_lg-no\"\n",
    "\n",
    "pretrained_model_path = os.path.join(output_dir, pre_train_run_name, \"pretrained_model\")    \n",
    "model = AutoModelForSequenceClassification.from_pretrained(pretrained_model_path, num_labels=2)\n",
    "\n",
    "finetune_model_path = os.path.join(output_dir, fine_tune_run_name)\n",
    "try:\n",
    "    os.mkdir(finetune_model_path)\n",
    "except:\n",
    "    pass\n",
    "\n",
    "training_args = TrainingArguments(\n",
    "    output_dir=finetune_model_path,          # output directory to where save model checkpoint\n",
    "    overwrite_output_dir=True,      \n",
    "    num_train_epochs=1,            # number of training epochs, feel free to tweak\n",
    "    per_device_train_batch_size=fine_tune_per_device_batch_size, # the training batch size, put it as high as your GPU memory fits\n",
    "    gradient_accumulation_steps=32,  # accumulating the gradients before updating the weights\n",
    "    logging_steps=1,             # evaluate, log and save model checkpoints every 1000 step\n",
    "    max_steps=20,\n",
    "    run_name=fine_tune_run_name,\n",
    ")\n",
    "\n",
    "trainer = Trainer(\n",
    "    model=model,\n",
    "    args=training_args,\n",
    "    train_dataset=train_data,\n",
    ")\n",
    "trainer.train()"
   ]
  },
  {
   "cell_type": "code",
   "execution_count": 66,
   "metadata": {},
   "outputs": [
    {
     "name": "stdout",
     "output_type": "stream",
     "text": [
      "Model saved to trained_models/fine_tune_2024_full_fi-100_ft-15000000_nb-30_ht-100000_di-uni_mx-1500_lg-no/finetuned_model_20_steps\n"
     ]
    }
   ],
   "source": [
    "save_path = os.path.join(finetune_model_path, 'finetuned_model_20_steps')\n",
    "trainer.save_model(save_path)\n",
    "print(f\"Model saved to {save_path}\")\n",
    "\n",
    "hyperparameters = {\n",
    "    'config': configuration,\n",
    "    'run_name': fine_tune_run_name,\n",
    "    'output_dir': finetune_model_path,\n",
    "    'num_epochs': 1,\n",
    "    'per_device_train_batch_size': fine_tune_per_device_batch_size,\n",
    "    'per_device_eval_batch_size': 0,\n",
    "    'logging_steps': 1,\n",
    "    'save_steps': 1,\n",
    "    'pretrain_run_name': pre_train_run_name,\n",
    "}\n",
    "\n",
    "with open(os.path.join(finetune_model_path, 'hyperparameters.json'), 'w') as f:\n",
    "    json.dump(hyperparameters, f)"
   ]
  },
  {
   "cell_type": "code",
   "execution_count": null,
   "metadata": {},
   "outputs": [],
   "source": []
  }
 ],
 "metadata": {
  "kernelspec": {
   "display_name": "Python 3 (ipykernel)",
   "language": "python",
   "name": "python3"
  },
  "language_info": {
   "codemirror_mode": {
    "name": "ipython",
    "version": 3
   },
   "file_extension": ".py",
   "mimetype": "text/x-python",
   "name": "python",
   "nbconvert_exporter": "python",
   "pygments_lexer": "ipython3",
   "version": "3.10.12"
  }
 },
 "nbformat": 4,
 "nbformat_minor": 2
}
